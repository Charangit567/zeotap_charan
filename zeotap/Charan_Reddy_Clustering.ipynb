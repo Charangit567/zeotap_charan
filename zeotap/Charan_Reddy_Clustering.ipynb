{
 "cells": [
  {
   "cell_type": "code",
   "execution_count": 23,
   "id": "454ec866-2ce7-41af-818d-510d8b7a66f8",
   "metadata": {},
   "outputs": [],
   "source": [
    "import pandas as pd\n",
    "import numpy as np\n",
    "from sklearn.cluster import KMeans\n",
    "from sklearn.decomposition import PCA\n",
    "from sklearn.metrics import davies_bouldin_score, silhouette_score\n",
    "from sklearn.preprocessing import StandardScaler\n",
    "import matplotlib.pyplot as plt\n",
    "import seaborn as sns"
   ]
  },
  {
   "cell_type": "code",
   "execution_count": 24,
   "id": "e3681462-0736-40c8-8601-58554f010266",
   "metadata": {},
   "outputs": [],
   "source": [
    "customers = pd.read_csv(\"C:/Users/Charan/Desktop/zeotap/Customers.csv\")\n",
    "transactions = pd.read_csv(\"C:/Users/Charan/Desktop/zeotap/Transactions.csv\")"
   ]
  },
  {
   "cell_type": "code",
   "execution_count": 25,
   "id": "5696426d-4b12-4e89-9e2e-5eae9d9f02d6",
   "metadata": {},
   "outputs": [],
   "source": [
    "\n",
    "merged_data = transactions.merge(customers, on='CustomerID')"
   ]
  },
  {
   "cell_type": "code",
   "execution_count": 26,
   "id": "c7d8e2ab-d41d-4b2a-94da-b0cfd7a4ff5b",
   "metadata": {},
   "outputs": [],
   "source": [
    "\n",
    "# Aggregate transaction data by customer\n",
    "customer_profile = merged_data.groupby('CustomerID').agg({\n",
    "    'TotalValue': 'sum',  \n",
    "    'Quantity': 'sum',  \n",
    "    'TransactionID': 'nunique',  \n",
    "}).reset_index()"
   ]
  },
  {
   "cell_type": "code",
   "execution_count": 27,
   "id": "cd1da75d-43e7-4955-951e-ce754b896382",
   "metadata": {},
   "outputs": [],
   "source": [
    "customer_profile = customer_profile.merge(customers[['CustomerID', 'Region']], on='CustomerID')"
   ]
  },
  {
   "cell_type": "code",
   "execution_count": 28,
   "id": "3e267cc2-16f8-4aa2-b2f4-01f239a8c2b0",
   "metadata": {},
   "outputs": [],
   "source": [
    "customer_profile = pd.get_dummies(customer_profile, columns=['Region'], drop_first=True)"
   ]
  },
  {
   "cell_type": "code",
   "execution_count": 29,
   "id": "8e268ab6-f721-45de-ba42-4aadfd2e3040",
   "metadata": {},
   "outputs": [],
   "source": [
    "# Normalize numerical features for clustering\n",
    "scaler = StandardScaler()\n",
    "numerical_features = customer_profile[['TotalValue', 'Quantity', 'TransactionID']]\n",
    "customer_profile[['TotalValue', 'Quantity', 'TransactionID']] = scaler.fit_transform(numerical_features)"
   ]
  },
  {
   "cell_type": "code",
   "execution_count": 30,
   "id": "f14c0cdd-d0fc-4131-8934-d705b689a71f",
   "metadata": {},
   "outputs": [],
   "source": [
    "X = customer_profile.drop(columns=['CustomerID'])\n"
   ]
  },
  {
   "cell_type": "code",
   "execution_count": 31,
   "id": "70c67ef5-acf5-4786-90e3-97f3ba489687",
   "metadata": {},
   "outputs": [],
   "source": [
    "# Initialize lists to store metrics\n",
    "db_index = []\n",
    "silhouette_scores = []\n",
    "inertia = []\n"
   ]
  },
  {
   "cell_type": "code",
   "execution_count": 32,
   "id": "55a5e4c0-1384-4320-b437-050a48cbb4d3",
   "metadata": {},
   "outputs": [],
   "source": [
    "from sklearn.cluster import KMeans\n",
    "from sklearn.metrics import davies_bouldin_score, silhouette_score\n",
    "\n",
    "# Assuming `X` is your scaled dataset\n",
    "n_clusters_range = range(2, 10)\n",
    "db_index = []\n",
    "silhouette_scores = []\n",
    "inertia = []\n",
    "\n",
    "for n_clusters in n_clusters_range:\n",
    "    kmeans = KMeans(n_clusters=n_clusters, random_state=42)\n",
    "    \n",
    "    \n",
    "    kmeans.fit(X)\n",
    "    \n",
    "\n",
    "    db_index.append(davies_bouldin_score(X, kmeans.labels_))  \n",
    "    silhouette_scores.append(silhouette_score(X, kmeans.labels_))  \n",
    "    inertia.append(kmeans.inertia_)  \n"
   ]
  },
  {
   "cell_type": "code",
   "execution_count": 33,
   "id": "3fc2a0e4-a30c-4605-b33f-205c757ecf02",
   "metadata": {},
   "outputs": [
    {
     "name": "stdout",
     "output_type": "stream",
     "text": [
      "DB Index for each cluster: [0.9326276410648637, 1.1111962347502493, 1.306315421417168, 1.3374927135002141, 1.38499329652923, 1.2954202293149562, 1.1615182831003552, 1.1565193929069972]\n",
      "Silhouette Scores for each cluster: [0.4009852314658833, 0.2927721019633813, 0.23682403624632775, 0.23934685739800535, 0.24494039547742893, 0.27088374581085195, 0.2868465157150049, 0.275450771068941]\n",
      "Inertia for each cluster: [356.28454160785003, 264.8663807893683, 225.5942425108367, 207.85147174182407, 195.17379547717277, 173.7944770509336, 146.06871476430504, 138.45752392264046]\n"
     ]
    }
   ],
   "source": [
    "# Print the results\n",
    "print(\"DB Index for each cluster:\", db_index)\n",
    "print(\"Silhouette Scores for each cluster:\", silhouette_scores)\n",
    "print(\"Inertia for each cluster:\", inertia)"
   ]
  },
  {
   "cell_type": "code",
   "execution_count": null,
   "id": "186df668-7cc0-47bf-a567-2799f8133383",
   "metadata": {},
   "outputs": [],
   "source": []
  }
 ],
 "metadata": {
  "kernelspec": {
   "display_name": "Python 3",
   "language": "python",
   "name": "python3"
  },
  "language_info": {
   "codemirror_mode": {
    "name": "ipython",
    "version": 3
   },
   "file_extension": ".py",
   "mimetype": "text/x-python",
   "name": "python",
   "nbconvert_exporter": "python",
   "pygments_lexer": "ipython3",
   "version": "3.10.8"
  }
 },
 "nbformat": 4,
 "nbformat_minor": 5
}
