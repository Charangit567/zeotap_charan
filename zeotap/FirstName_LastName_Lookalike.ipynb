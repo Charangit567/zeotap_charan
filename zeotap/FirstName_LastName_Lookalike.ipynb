{
 "cells": [
  {
   "cell_type": "code",
   "execution_count": 36,
   "id": "35bc389d-62cf-403b-b396-a2e2d426bd88",
   "metadata": {},
   "outputs": [],
   "source": [
    "import pandas as pd\n",
    "import numpy as np\n",
    "from sklearn.metrics.pairwise import cosine_similarity\n",
    "from sklearn.preprocessing import StandardScaler"
   ]
  },
  {
   "cell_type": "code",
   "execution_count": 37,
   "id": "79738b30-6405-471c-abea-9edf7860009a",
   "metadata": {},
   "outputs": [],
   "source": [
    "customers = pd.read_csv(\"C:/Users/Charan/Desktop/zeotap/Customers.csv\")\n",
    "products = pd.read_csv(\"C:/Users/Charan/Desktop/zeotap/Products.csv\")\n",
    "transactions = pd.read_csv(\"C:/Users/Charan/Desktop/zeotap/Transactions.csv\")"
   ]
  },
  {
   "cell_type": "code",
   "execution_count": 38,
   "id": "15e00549-3dab-4511-b007-6e37de9a9b17",
   "metadata": {},
   "outputs": [],
   "source": [
    "# Merge datasets for analysis\n",
    "merged_data = transactions.merge(customers, on='CustomerID').merge(products, on='ProductID')"
   ]
  },
  {
   "cell_type": "code",
   "execution_count": 39,
   "id": "b2b41471-6206-492c-b91e-89aa8e5e9e9a",
   "metadata": {},
   "outputs": [],
   "source": [
    "# Feature Engineering: Creating a customer profile\n",
    "# Aggregate the data by customer\n",
    "customer_profile = merged_data.groupby('CustomerID').agg({\n",
    "    'TotalValue': 'sum',  # Total money spent\n",
    "    'Quantity': 'sum',  # Total quantity bought\n",
    "    'Category': lambda x: x.mode()[0],  # Most frequent product category\n",
    "}).reset_index()"
   ]
  },
  {
   "cell_type": "code",
   "execution_count": 40,
   "id": "8d3540de-6b6e-4cef-8493-f296021b8d3b",
   "metadata": {},
   "outputs": [],
   "source": [
    "# Normalize the numerical features for similarity calculation\n",
    "scaler = StandardScaler()\n",
    "numerical_features = customer_profile[['TotalValue', 'Quantity']]\n",
    "customer_profile[['TotalValue', 'Quantity']] = scaler.fit_transform(numerical_features)"
   ]
  },
  {
   "cell_type": "code",
   "execution_count": 41,
   "id": "28f17920-8228-4ddf-9dec-dedd828a1fe3",
   "metadata": {},
   "outputs": [],
   "source": [
    "# Creating a simplified customer profile: Region and Category (encoded)\n",
    "customer_profile = customer_profile.merge(customers[['CustomerID', 'Region']], on='CustomerID')"
   ]
  },
  {
   "cell_type": "code",
   "execution_count": 42,
   "id": "78b52e23-256f-43cc-952e-b4c4caba881e",
   "metadata": {},
   "outputs": [],
   "source": [
    "# One-hot encode the 'Region' and 'Category' columns\n",
    "customer_profile = pd.get_dummies(customer_profile, columns=['Region', 'Category'])\n"
   ]
  },
  {
   "cell_type": "code",
   "execution_count": 43,
   "id": "958de793-c7fa-4839-8d17-5932ff6a3c39",
   "metadata": {},
   "outputs": [],
   "source": [
    "# Calculate similarity using Cosine Similarity\n",
    "profile_matrix = customer_profile.drop(columns=['CustomerID'])\n",
    "cosine_sim = cosine_similarity(profile_matrix)"
   ]
  },
  {
   "cell_type": "code",
   "execution_count": 44,
   "id": "faf6189f-756e-4605-98ec-34341b25380a",
   "metadata": {},
   "outputs": [],
   "source": [
    "# Create a mapping of customer IDs to their index\n",
    "customer_id_to_index = {customer_profile['CustomerID'][i]: i for i in range(len(customer_profile))}"
   ]
  },
  {
   "cell_type": "code",
   "execution_count": 45,
   "id": "3a3099f3-237e-43cd-ba54-bb7ef6fa1bea",
   "metadata": {},
   "outputs": [],
   "source": [
    "# Generate Lookalike Recommendations for the first 20 customers\n",
    "lookalike_recommendations = {}\n"
   ]
  },
  {
   "cell_type": "code",
   "execution_count": 46,
   "id": "42be89db-b7fd-4894-b526-c8f87292fc5d",
   "metadata": {},
   "outputs": [],
   "source": [
    "for customer_id in customers['CustomerID'][:20]:\n",
    "    customer_index = customer_id_to_index[customer_id]\n",
    "    "
   ]
  },
  {
   "cell_type": "code",
   "execution_count": 47,
   "id": "9a2028c5-4a1d-4739-91b1-0e1e38d100b3",
   "metadata": {},
   "outputs": [],
   "source": [
    " similarity_scores = list(enumerate(cosine_sim[customer_index]))"
   ]
  },
  {
   "cell_type": "code",
   "execution_count": 48,
   "id": "54025790-e95f-4b9b-acd3-9db9b5fe81fb",
   "metadata": {},
   "outputs": [],
   "source": [
    "similarity_scores = sorted(similarity_scores, key=lambda x: x[1], reverse=True)"
   ]
  },
  {
   "cell_type": "code",
   "execution_count": 49,
   "id": "7ffcbd07-b1f0-450a-a289-ecec9d0dce2d",
   "metadata": {},
   "outputs": [],
   "source": [
    "# Get the top 3 most similar customers (excluding the customer themselves)\n",
    "top_3_similar = [(customers['CustomerID'][score[0]], score[1]) for score in similarity_scores[1:4]]"
   ]
  },
  {
   "cell_type": "code",
   "execution_count": 50,
   "id": "0c238c85-73dd-456e-b664-f73ccf8c08e9",
   "metadata": {},
   "outputs": [],
   "source": [
    "lookalike_recommendations[customer_id] = top_3_similar"
   ]
  },
  {
   "cell_type": "code",
   "execution_count": 51,
   "id": "629f5fba-7e68-47ce-8968-15f18a601376",
   "metadata": {},
   "outputs": [],
   "source": [
    "lookalike_df = pd.DataFrame(columns=['cust_id', 'lookalikes'])\n",
    "lookalike_data = []"
   ]
  },
  {
   "cell_type": "code",
   "execution_count": 52,
   "id": "3c579003-3639-4d71-835e-b6e5ef9942ad",
   "metadata": {},
   "outputs": [],
   "source": [
    "lookalike_data = []"
   ]
  },
  {
   "cell_type": "code",
   "execution_count": 53,
   "id": "9465bc03-f9f7-474f-9539-e31abf75263e",
   "metadata": {},
   "outputs": [],
   "source": [
    "for customer_id, recommendations in lookalike_recommendations.items():\n",
    "    lookalike_data.append({\n",
    "        'cust_id': customer_id,\n",
    "        'lookalikes': str(recommendations)\n",
    "    })"
   ]
  },
  {
   "cell_type": "code",
   "execution_count": 54,
   "id": "4b9d5d80-7f5e-4e5a-961a-7d1a0d380572",
   "metadata": {},
   "outputs": [],
   "source": [
    "lookalike_df = pd.DataFrame(lookalike_data)"
   ]
  },
  {
   "cell_type": "code",
   "execution_count": 55,
   "id": "1456a693-8c47-48b2-905f-bda2f9f20880",
   "metadata": {},
   "outputs": [],
   "source": [
    "# Save the lookalike recommendations to CSV\n",
    "lookalike_df.to_csv('FirstName_LastName_Lookalike.csv', index=False)"
   ]
  },
  {
   "cell_type": "code",
   "execution_count": null,
   "id": "013435ab-02d8-4954-9f9d-15baf24bb072",
   "metadata": {},
   "outputs": [],
   "source": []
  }
 ],
 "metadata": {
  "kernelspec": {
   "display_name": "Python 3",
   "language": "python",
   "name": "python3"
  },
  "language_info": {
   "codemirror_mode": {
    "name": "ipython",
    "version": 3
   },
   "file_extension": ".py",
   "mimetype": "text/x-python",
   "name": "python",
   "nbconvert_exporter": "python",
   "pygments_lexer": "ipython3",
   "version": "3.10.8"
  }
 },
 "nbformat": 4,
 "nbformat_minor": 5
}
